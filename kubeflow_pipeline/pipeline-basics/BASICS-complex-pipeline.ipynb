{
 "cells": [
  {
   "cell_type": "code",
   "execution_count": null,
   "metadata": {},
   "outputs": [],
   "source": [
    "! pip3 install kfp --upgrade"
   ]
  },
  {
   "cell_type": "code",
   "execution_count": null,
   "metadata": {},
   "outputs": [],
   "source": [
    "! pip3 list"
   ]
  },
  {
   "cell_type": "code",
   "execution_count": 1,
   "metadata": {},
   "outputs": [],
   "source": [
    "import kfp\n",
    "import kfp.components as comp\n",
    "import kfp.compiler as compiler\n",
    "import kfp.dsl as dsl"
   ]
  },
  {
   "cell_type": "markdown",
   "metadata": {},
   "source": [
    "# Init an experiment"
   ]
  },
  {
   "cell_type": "code",
   "execution_count": 2,
   "metadata": {},
   "outputs": [],
   "source": [
    "EXPERIMENT_NAME = 'SLEQ_BASICS'\n",
    "PIPELINE_FILENAME = 'complex_pipeline.tar.gz'\n",
    "PIPELINE_RUN_NAME = '[basic] complex pipeline'"
   ]
  },
  {
   "cell_type": "code",
   "execution_count": 3,
   "metadata": {},
   "outputs": [
    {
     "name": "stdout",
     "output_type": "stream",
     "text": [
      "Experiment already exists with id 3215e00f-775a-4f1f-adcc-a56aef71131a\n"
     ]
    }
   ],
   "source": [
    "client = kfp.Client()\n",
    "\n",
    "existing_experiments = client.list_experiments().experiments\n",
    "\n",
    "if existing_experiments is not None:\n",
    "    experiment = next(iter([exp for exp in existing_experiments if exp.name == EXPERIMENT_NAME]), None)\n",
    "else:\n",
    "    experiment = None\n",
    "    \n",
    "if experiment is None:\n",
    "    experiment = client.create_experiment(EXPERIMENT_NAME)\n",
    "    print('Experiment %s created with ID %s' % (experiment.name, experiment.id))\n",
    "else:\n",
    "    print('Experiment already exists with id %s' % experiment.id)"
   ]
  },
  {
   "cell_type": "markdown",
   "metadata": {},
   "source": [
    "# Defines complex pipeline"
   ]
  },
  {
   "cell_type": "code",
   "execution_count": 4,
   "metadata": {
    "scrolled": true
   },
   "outputs": [],
   "source": [
    "class ExitOp(dsl.ContainerOp):\n",
    "    def __init__(self):\n",
    "        super(ExitOp, self).__init__(\n",
    "            name='Exit operator',\n",
    "            image='library/bash:4.4.23',\n",
    "            command=['echo', 'exit!']\n",
    "        )"
   ]
  },
  {
   "cell_type": "code",
   "execution_count": 14,
   "metadata": {},
   "outputs": [],
   "source": [
    "def random_print_or_error(name: str) -> str:\n",
    "    import random\n",
    "    import sys\n",
    "    \n",
    "    exit_code = random.choice([0, 1, 3, 4, 5])\n",
    "    if exit_code == 0:\n",
    "        return '[%s] Ok, could continue' % name\n",
    "    else:\n",
    "        sys.exit(exit_code)\n",
    "\n",
    "random_print_or_error_operation = comp.func_to_container_op(random_print_or_error)"
   ]
  },
  {
   "cell_type": "code",
   "execution_count": 6,
   "metadata": {},
   "outputs": [],
   "source": [
    "class MergerPrinter(dsl.ContainerOp):\n",
    "    def __init__(self, input_1, input_2):\n",
    "        super(MergerPrinter, self).__init__(\n",
    "            name='Exit operator',\n",
    "            image='library/bash:4.4.23',\n",
    "            command=['echo', '%s | %s' % (input_1, input_2)]\n",
    "        )"
   ]
  },
  {
   "cell_type": "code",
   "execution_count": 15,
   "metadata": {},
   "outputs": [],
   "source": [
    "@dsl.pipeline(\n",
    "    name='complex_pipeline',\n",
    "    description='Exit Handler, retry and merge flows'\n",
    ")\n",
    "def pipeline():\n",
    "\n",
    "    with dsl.ExitHandler(ExitOp()):\n",
    "        ope_1 = random_print_or_error_operation(name='ope_1').set_retry(10)\n",
    "        ope_2 = random_print_or_error_operation(name='ope_2').set_retry(5)\n",
    "        MergerPrinter(ope_1.output, ope_2.output)\n",
    "\n",
    "pipeline_func = compiler.Compiler().compile(pipeline, PIPELINE_FILENAME)"
   ]
  },
  {
   "cell_type": "markdown",
   "metadata": {},
   "source": [
    "# Running the pipeline"
   ]
  },
  {
   "cell_type": "code",
   "execution_count": 16,
   "metadata": {},
   "outputs": [
    {
     "data": {
      "text/html": [
       "Run link <a href=\"/pipeline/#/runs/details/18858074-4522-11e9-9694-0800273ba42c\" target=\"_blank\" >here</a>"
      ],
      "text/plain": [
       "<IPython.core.display.HTML object>"
      ]
     },
     "metadata": {},
     "output_type": "execute_result"
    },
    {
     "data": {
      "text/plain": [
       "{'created_at': datetime.datetime(2019, 3, 12, 23, 53, 55, tzinfo=tzlocal()),\n",
       " 'description': None,\n",
       " 'error': None,\n",
       " 'id': '18858074-4522-11e9-9694-0800273ba42c',\n",
       " 'metrics': None,\n",
       " 'name': '[basic] complex pipeline',\n",
       " 'pipeline_spec': {'parameters': None,\n",
       "                   'pipeline_id': None,\n",
       "                   'pipeline_manifest': None,\n",
       "                   'workflow_manifest': '{\"apiVersion\": '\n",
       "                                        '\"argoproj.io/v1alpha1\", \"kind\": '\n",
       "                                        '\"Workflow\", \"metadata\": '\n",
       "                                        '{\"generateName\": '\n",
       "                                        '\"complex-pipeline-\"}, \"spec\": '\n",
       "                                        '{\"arguments\": {\"parameters\": []}, '\n",
       "                                        '\"entrypoint\": \"complex-pipeline\", '\n",
       "                                        '\"onExit\": \"exit-operator\", '\n",
       "                                        '\"serviceAccountName\": '\n",
       "                                        '\"pipeline-runner\", \"templates\": '\n",
       "                                        '[{\"dag\": {\"tasks\": [{\"name\": '\n",
       "                                        '\"exit-handler-1\", \"template\": '\n",
       "                                        '\"exit-handler-1\"}, {\"name\": '\n",
       "                                        '\"exit-operator\", \"template\": '\n",
       "                                        '\"exit-operator\"}]}, \"name\": '\n",
       "                                        '\"complex-pipeline\"}, {\"dag\": '\n",
       "                                        '{\"tasks\": [{\"arguments\": '\n",
       "                                        '{\"parameters\": [{\"name\": '\n",
       "                                        '\"random-print-or-error-2-output\", '\n",
       "                                        '\"value\": '\n",
       "                                        '\"{{tasks.random-print-or-error-2.outputs.parameters.random-print-or-error-2-output}}\"}, '\n",
       "                                        '{\"name\": '\n",
       "                                        '\"random-print-or-error-output\", '\n",
       "                                        '\"value\": '\n",
       "                                        '\"{{tasks.random-print-or-error.outputs.parameters.random-print-or-error-output}}\"}]}, '\n",
       "                                        '\"dependencies\": '\n",
       "                                        '[\"random-print-or-error\", '\n",
       "                                        '\"random-print-or-error-2\"], \"name\": '\n",
       "                                        '\"exit-operator-2\", \"template\": '\n",
       "                                        '\"exit-operator-2\"}, {\"name\": '\n",
       "                                        '\"random-print-or-error\", \"template\": '\n",
       "                                        '\"random-print-or-error\"}, {\"name\": '\n",
       "                                        '\"random-print-or-error-2\", '\n",
       "                                        '\"template\": '\n",
       "                                        '\"random-print-or-error-2\"}]}, \"name\": '\n",
       "                                        '\"exit-handler-1\"}, {\"container\": '\n",
       "                                        '{\"command\": [\"echo\", \"exit!\"], '\n",
       "                                        '\"image\": \"library/bash:4.4.23\"}, '\n",
       "                                        '\"name\": \"exit-operator\", \"outputs\": '\n",
       "                                        '{\"artifacts\": [{\"name\": '\n",
       "                                        '\"mlpipeline-ui-metadata\", \"path\": '\n",
       "                                        '\"/mlpipeline-ui-metadata.json\", \"s3\": '\n",
       "                                        '{\"accessKeySecret\": {\"key\": '\n",
       "                                        '\"accesskey\", \"name\": '\n",
       "                                        '\"mlpipeline-minio-artifact\"}, '\n",
       "                                        '\"bucket\": \"mlpipeline\", \"endpoint\": '\n",
       "                                        '\"minio-service.kubeflow:9000\", '\n",
       "                                        '\"insecure\": true, \"key\": '\n",
       "                                        '\"runs/{{workflow.uid}}/{{pod.name}}/mlpipeline-ui-metadata.tgz\", '\n",
       "                                        '\"secretKeySecret\": {\"key\": '\n",
       "                                        '\"secretkey\", \"name\": '\n",
       "                                        '\"mlpipeline-minio-artifact\"}}}, '\n",
       "                                        '{\"name\": \"mlpipeline-metrics\", '\n",
       "                                        '\"path\": \"/mlpipeline-metrics.json\", '\n",
       "                                        '\"s3\": {\"accessKeySecret\": {\"key\": '\n",
       "                                        '\"accesskey\", \"name\": '\n",
       "                                        '\"mlpipeline-minio-artifact\"}, '\n",
       "                                        '\"bucket\": \"mlpipeline\", \"endpoint\": '\n",
       "                                        '\"minio-service.kubeflow:9000\", '\n",
       "                                        '\"insecure\": true, \"key\": '\n",
       "                                        '\"runs/{{workflow.uid}}/{{pod.name}}/mlpipeline-metrics.tgz\", '\n",
       "                                        '\"secretKeySecret\": {\"key\": '\n",
       "                                        '\"secretkey\", \"name\": '\n",
       "                                        '\"mlpipeline-minio-artifact\"}}}]}}, '\n",
       "                                        '{\"container\": {\"command\": [\"echo\", '\n",
       "                                        '\"{{inputs.parameters.random-print-or-error-output}} '\n",
       "                                        '| '\n",
       "                                        '{{inputs.parameters.random-print-or-error-2-output}}\"], '\n",
       "                                        '\"image\": \"library/bash:4.4.23\"}, '\n",
       "                                        '\"inputs\": {\"parameters\": [{\"name\": '\n",
       "                                        '\"random-print-or-error-2-output\"}, '\n",
       "                                        '{\"name\": '\n",
       "                                        '\"random-print-or-error-output\"}]}, '\n",
       "                                        '\"name\": \"exit-operator-2\", \"outputs\": '\n",
       "                                        '{\"artifacts\": [{\"name\": '\n",
       "                                        '\"mlpipeline-ui-metadata\", \"path\": '\n",
       "                                        '\"/mlpipeline-ui-metadata.json\", \"s3\": '\n",
       "                                        '{\"accessKeySecret\": {\"key\": '\n",
       "                                        '\"accesskey\", \"name\": '\n",
       "                                        '\"mlpipeline-minio-artifact\"}, '\n",
       "                                        '\"bucket\": \"mlpipeline\", \"endpoint\": '\n",
       "                                        '\"minio-service.kubeflow:9000\", '\n",
       "                                        '\"insecure\": true, \"key\": '\n",
       "                                        '\"runs/{{workflow.uid}}/{{pod.name}}/mlpipeline-ui-metadata.tgz\", '\n",
       "                                        '\"secretKeySecret\": {\"key\": '\n",
       "                                        '\"secretkey\", \"name\": '\n",
       "                                        '\"mlpipeline-minio-artifact\"}}}, '\n",
       "                                        '{\"name\": \"mlpipeline-metrics\", '\n",
       "                                        '\"path\": \"/mlpipeline-metrics.json\", '\n",
       "                                        '\"s3\": {\"accessKeySecret\": {\"key\": '\n",
       "                                        '\"accesskey\", \"name\": '\n",
       "                                        '\"mlpipeline-minio-artifact\"}, '\n",
       "                                        '\"bucket\": \"mlpipeline\", \"endpoint\": '\n",
       "                                        '\"minio-service.kubeflow:9000\", '\n",
       "                                        '\"insecure\": true, \"key\": '\n",
       "                                        '\"runs/{{workflow.uid}}/{{pod.name}}/mlpipeline-metrics.tgz\", '\n",
       "                                        '\"secretKeySecret\": {\"key\": '\n",
       "                                        '\"secretkey\", \"name\": '\n",
       "                                        '\"mlpipeline-minio-artifact\"}}}]}}, '\n",
       "                                        '{\"container\": {\"args\": [\"ope_1\", '\n",
       "                                        '\"/outputs/Output/data\"], \"command\": '\n",
       "                                        '[\"python3\", \"-c\", \"def '\n",
       "                                        'random_print_or_error(name: str) -> '\n",
       "                                        'str:\\\\n    import random\\\\n    import '\n",
       "                                        'sys\\\\n    \\\\n    exit_code = '\n",
       "                                        'random.choice([0, 1, 3, 4, 5])\\\\n    '\n",
       "                                        'if exit_code == 0:\\\\n        return '\n",
       "                                        \"'[%s] Ok, could continue' % \"\n",
       "                                        'name\\\\n    else:\\\\n        '\n",
       "                                        'sys.exit(exit_code)\\\\n\\\\nimport '\n",
       "                                        \"sys\\\\n_args = {\\\\n    'name': \"\n",
       "                                        'str(sys.argv[1]),\\\\n}\\\\n_output_files '\n",
       "                                        '= [\\\\n    '\n",
       "                                        'sys.argv[2],\\\\n]\\\\n\\\\n_outputs = '\n",
       "                                        'random_print_or_error(**_args)\\\\n\\\\nif '\n",
       "                                        \"not hasattr(_outputs, '__getitem__') \"\n",
       "                                        'or isinstance(_outputs, str):\\\\n    '\n",
       "                                        '_outputs = [_outputs]\\\\n\\\\nfrom '\n",
       "                                        'pathlib import Path\\\\nfor idx, '\n",
       "                                        'filename in '\n",
       "                                        'enumerate(_output_files):\\\\n    '\n",
       "                                        '_output_path = Path(filename)\\\\n    '\n",
       "                                        '_output_path.parent.mkdir(parents=True, '\n",
       "                                        'exist_ok=True)\\\\n    '\n",
       "                                        '_output_path.write_text(str(_outputs[idx]))\\\\n\"], '\n",
       "                                        '\"image\": '\n",
       "                                        '\"tensorflow/tensorflow:1.11.0-py3\"}, '\n",
       "                                        '\"name\": \"random-print-or-error\", '\n",
       "                                        '\"outputs\": {\"artifacts\": [{\"name\": '\n",
       "                                        '\"mlpipeline-ui-metadata\", \"path\": '\n",
       "                                        '\"/mlpipeline-ui-metadata.json\", \"s3\": '\n",
       "                                        '{\"accessKeySecret\": {\"key\": '\n",
       "                                        '\"accesskey\", \"name\": '\n",
       "                                        '\"mlpipeline-minio-artifact\"}, '\n",
       "                                        '\"bucket\": \"mlpipeline\", \"endpoint\": '\n",
       "                                        '\"minio-service.kubeflow:9000\", '\n",
       "                                        '\"insecure\": true, \"key\": '\n",
       "                                        '\"runs/{{workflow.uid}}/{{pod.name}}/mlpipeline-ui-metadata.tgz\", '\n",
       "                                        '\"secretKeySecret\": {\"key\": '\n",
       "                                        '\"secretkey\", \"name\": '\n",
       "                                        '\"mlpipeline-minio-artifact\"}}}, '\n",
       "                                        '{\"name\": \"mlpipeline-metrics\", '\n",
       "                                        '\"path\": \"/mlpipeline-metrics.json\", '\n",
       "                                        '\"s3\": {\"accessKeySecret\": {\"key\": '\n",
       "                                        '\"accesskey\", \"name\": '\n",
       "                                        '\"mlpipeline-minio-artifact\"}, '\n",
       "                                        '\"bucket\": \"mlpipeline\", \"endpoint\": '\n",
       "                                        '\"minio-service.kubeflow:9000\", '\n",
       "                                        '\"insecure\": true, \"key\": '\n",
       "                                        '\"runs/{{workflow.uid}}/{{pod.name}}/mlpipeline-metrics.tgz\", '\n",
       "                                        '\"secretKeySecret\": {\"key\": '\n",
       "                                        '\"secretkey\", \"name\": '\n",
       "                                        '\"mlpipeline-minio-artifact\"}}}], '\n",
       "                                        '\"parameters\": [{\"name\": '\n",
       "                                        '\"random-print-or-error-output\", '\n",
       "                                        '\"valueFrom\": {\"path\": '\n",
       "                                        '\"/outputs/Output/data\"}}]}, '\n",
       "                                        '\"retryStrategy\": {\"limit\": 10}}, '\n",
       "                                        '{\"container\": {\"args\": [\"ope_2\", '\n",
       "                                        '\"/outputs/Output/data\"], \"command\": '\n",
       "                                        '[\"python3\", \"-c\", \"def '\n",
       "                                        'random_print_or_error(name: str) -> '\n",
       "                                        'str:\\\\n    import random\\\\n    import '\n",
       "                                        'sys\\\\n    \\\\n    exit_code = '\n",
       "                                        'random.choice([0, 1, 3, 4, 5])\\\\n    '\n",
       "                                        'if exit_code == 0:\\\\n        return '\n",
       "                                        \"'[%s] Ok, could continue' % \"\n",
       "                                        'name\\\\n    else:\\\\n        '\n",
       "                                        'sys.exit(exit_code)\\\\n\\\\nimport '\n",
       "                                        \"sys\\\\n_args = {\\\\n    'name': \"\n",
       "                                        'str(sys.argv[1]),\\\\n}\\\\n_output_files '\n",
       "                                        '= [\\\\n    '\n",
       "                                        'sys.argv[2],\\\\n]\\\\n\\\\n_outputs = '\n",
       "                                        'random_print_or_error(**_args)\\\\n\\\\nif '\n",
       "                                        \"not hasattr(_outputs, '__getitem__') \"\n",
       "                                        'or isinstance(_outputs, str):\\\\n    '\n",
       "                                        '_outputs = [_outputs]\\\\n\\\\nfrom '\n",
       "                                        'pathlib import Path\\\\nfor idx, '\n",
       "                                        'filename in '\n",
       "                                        'enumerate(_output_files):\\\\n    '\n",
       "                                        '_output_path = Path(filename)\\\\n    '\n",
       "                                        '_output_path.parent.mkdir(parents=True, '\n",
       "                                        'exist_ok=True)\\\\n    '\n",
       "                                        '_output_path.write_text(str(_outputs[idx]))\\\\n\"], '\n",
       "                                        '\"image\": '\n",
       "                                        '\"tensorflow/tensorflow:1.11.0-py3\"}, '\n",
       "                                        '\"name\": \"random-print-or-error-2\", '\n",
       "                                        '\"outputs\": {\"artifacts\": [{\"name\": '\n",
       "                                        '\"mlpipeline-ui-metadata\", \"path\": '\n",
       "                                        '\"/mlpipeline-ui-metadata.json\", \"s3\": '\n",
       "                                        '{\"accessKeySecret\": {\"key\": '\n",
       "                                        '\"accesskey\", \"name\": '\n",
       "                                        '\"mlpipeline-minio-artifact\"}, '\n",
       "                                        '\"bucket\": \"mlpipeline\", \"endpoint\": '\n",
       "                                        '\"minio-service.kubeflow:9000\", '\n",
       "                                        '\"insecure\": true, \"key\": '\n",
       "                                        '\"runs/{{workflow.uid}}/{{pod.name}}/mlpipeline-ui-metadata.tgz\", '\n",
       "                                        '\"secretKeySecret\": {\"key\": '\n",
       "                                        '\"secretkey\", \"name\": '\n",
       "                                        '\"mlpipeline-minio-artifact\"}}}, '\n",
       "                                        '{\"name\": \"mlpipeline-metrics\", '\n",
       "                                        '\"path\": \"/mlpipeline-metrics.json\", '\n",
       "                                        '\"s3\": {\"accessKeySecret\": {\"key\": '\n",
       "                                        '\"accesskey\", \"name\": '\n",
       "                                        '\"mlpipeline-minio-artifact\"}, '\n",
       "                                        '\"bucket\": \"mlpipeline\", \"endpoint\": '\n",
       "                                        '\"minio-service.kubeflow:9000\", '\n",
       "                                        '\"insecure\": true, \"key\": '\n",
       "                                        '\"runs/{{workflow.uid}}/{{pod.name}}/mlpipeline-metrics.tgz\", '\n",
       "                                        '\"secretKeySecret\": {\"key\": '\n",
       "                                        '\"secretkey\", \"name\": '\n",
       "                                        '\"mlpipeline-minio-artifact\"}}}], '\n",
       "                                        '\"parameters\": [{\"name\": '\n",
       "                                        '\"random-print-or-error-2-output\", '\n",
       "                                        '\"valueFrom\": {\"path\": '\n",
       "                                        '\"/outputs/Output/data\"}}]}, '\n",
       "                                        '\"retryStrategy\": {\"limit\": 5}}]}}'},\n",
       " 'resource_references': [{'key': {'id': '3215e00f-775a-4f1f-adcc-a56aef71131a',\n",
       "                                  'type': 'EXPERIMENT'},\n",
       "                          'relationship': 'OWNER'}],\n",
       " 'scheduled_at': datetime.datetime(1970, 1, 1, 0, 0, tzinfo=tzlocal()),\n",
       " 'status': None,\n",
       " 'storage_state': None}"
      ]
     },
     "execution_count": 16,
     "metadata": {},
     "output_type": "execute_result"
    }
   ],
   "source": [
    "client.run_pipeline(experiment.id, PIPELINE_RUN_NAME, PIPELINE_FILENAME)"
   ]
  },
  {
   "cell_type": "code",
   "execution_count": null,
   "metadata": {},
   "outputs": [],
   "source": []
  }
 ],
 "metadata": {
  "kernelspec": {
   "display_name": "Python 3",
   "language": "python",
   "name": "python3"
  },
  "language_info": {
   "codemirror_mode": {
    "name": "ipython",
    "version": 3
   },
   "file_extension": ".py",
   "mimetype": "text/x-python",
   "name": "python",
   "nbconvert_exporter": "python",
   "pygments_lexer": "ipython3",
   "version": "3.6.4"
  }
 },
 "nbformat": 4,
 "nbformat_minor": 2
}
