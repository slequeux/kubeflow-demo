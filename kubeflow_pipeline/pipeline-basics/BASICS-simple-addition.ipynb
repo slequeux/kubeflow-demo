{
 "cells": [
  {
   "cell_type": "code",
   "execution_count": 42,
   "metadata": {},
   "outputs": [],
   "source": [
    "import kfp\n",
    "import kfp.components as comp\n",
    "import kfp.compiler as compiler\n",
    "import kfp.dsl as dsl"
   ]
  },
  {
   "cell_type": "markdown",
   "metadata": {},
   "source": [
    "# Init an experiment"
   ]
  },
  {
   "cell_type": "code",
   "execution_count": 43,
   "metadata": {},
   "outputs": [],
   "source": [
    "EXPERIMENT_NAME = 'SLEQ_BASICS'\n",
    "PIPELINE_FILENAME = 'simple_addition.tar.gz'\n",
    "PIPELINE_RUN_NAME = '[basic] simple addition'"
   ]
  },
  {
   "cell_type": "code",
   "execution_count": 44,
   "metadata": {},
   "outputs": [
    {
     "name": "stdout",
     "output_type": "stream",
     "text": [
      "Experiment already exists with id 57935e68-839a-492e-8140-98fcb83a10d0\n"
     ]
    }
   ],
   "source": [
    "client = kfp.Client()\n",
    "\n",
    "existing_experiments = client.list_experiments().experiments\n",
    "\n",
    "if existing_experiments is not None:\n",
    "    experiment = next(iter([exp for exp in existing_experiments if exp.name == EXPERIMENT_NAME]), None)\n",
    "else:\n",
    "    experiment = None\n",
    "    \n",
    "if experiment is None:\n",
    "    experiment = client.create_experiment(EXPERIMENT_NAME)\n",
    "    print('Experiment %s created with ID %s' % (experiment.name, experiment.id))\n",
    "else:\n",
    "    print('Experiment already exists with id %s' % experiment.id)"
   ]
  },
  {
   "cell_type": "markdown",
   "metadata": {},
   "source": [
    "# Defines simple pipeline"
   ]
  },
  {
   "cell_type": "code",
   "execution_count": 45,
   "metadata": {},
   "outputs": [],
   "source": [
    "def add(a: float,  b: float) -> float:\n",
    "    print('adding %s and %s' % (a, b))\n",
    "    return a + b\n",
    "\n",
    "add_operation = comp.func_to_container_op(add)"
   ]
  },
  {
   "cell_type": "code",
   "execution_count": 46,
   "metadata": {},
   "outputs": [],
   "source": [
    "@dsl.pipeline(\n",
    "    name='simple_pipeline',\n",
    "    description='my first pipeline'\n",
    ")\n",
    "def pipeline(a: float, b: float, c: float) -> float:\n",
    "    add_task_1 = add_operation(a, b)\n",
    "    add_task_2 = add_operation(add_task_1.output, c)\n",
    "\n",
    "pipeline_func = compiler.Compiler().compile(pipeline, PIPELINE_FILENAME)"
   ]
  },
  {
   "cell_type": "markdown",
   "metadata": {},
   "source": [
    "# Running the pipeline"
   ]
  },
  {
   "cell_type": "code",
   "execution_count": 47,
   "metadata": {},
   "outputs": [
    {
     "data": {
      "text/html": [
       "Run link <a href=\"/pipeline/#/runs/details/dc90b562-4429-11e9-8c13-080027606df2\" target=\"_blank\" >here</a>"
      ],
      "text/plain": [
       "<IPython.core.display.HTML object>"
      ]
     },
     "metadata": {},
     "output_type": "execute_result"
    },
    {
     "data": {
      "text/plain": [
       "{'created_at': datetime.datetime(2019, 3, 11, 18, 16, 59, tzinfo=tzlocal()),\n",
       " 'description': None,\n",
       " 'error': None,\n",
       " 'id': 'dc90b562-4429-11e9-8c13-080027606df2',\n",
       " 'metrics': None,\n",
       " 'name': 'simple run',\n",
       " 'pipeline_spec': {'parameters': [{'name': 'a', 'value': '2'},\n",
       "                                  {'name': 'b', 'value': '10'},\n",
       "                                  {'name': 'c', 'value': '13.25'}],\n",
       "                   'pipeline_id': None,\n",
       "                   'pipeline_manifest': None,\n",
       "                   'workflow_manifest': '{\"apiVersion\": '\n",
       "                                        '\"argoproj.io/v1alpha1\", \"kind\": '\n",
       "                                        '\"Workflow\", \"metadata\": '\n",
       "                                        '{\"generateName\": \"simple-pipeline-\"}, '\n",
       "                                        '\"spec\": {\"arguments\": {\"parameters\": '\n",
       "                                        '[{\"name\": \"a\"}, {\"name\": \"b\"}, '\n",
       "                                        '{\"name\": \"c\"}]}, \"entrypoint\": '\n",
       "                                        '\"simple-pipeline\", '\n",
       "                                        '\"serviceAccountName\": '\n",
       "                                        '\"pipeline-runner\", \"templates\": '\n",
       "                                        '[{\"container\": {\"args\": '\n",
       "                                        '[\"{{inputs.parameters.a}}\", '\n",
       "                                        '\"{{inputs.parameters.b}}\", '\n",
       "                                        '\"/outputs/Output\"], \"command\": '\n",
       "                                        '[\"python3\", \"-c\", \"from typing import '\n",
       "                                        'NamedTuple\\\\n\\\\ndef add(a: float,  b: '\n",
       "                                        \"float) -> float:\\\\n    print('adding \"\n",
       "                                        \"%s and %s' % (a, b))\\\\n    return a + \"\n",
       "                                        'b\\\\n\\\\nimport sys\\\\n_args = {\\\\n    '\n",
       "                                        \"'a': float(sys.argv[1]),\\\\n    'b': \"\n",
       "                                        'float(sys.argv[2]),\\\\n}\\\\n_output_files '\n",
       "                                        '= [\\\\n    '\n",
       "                                        'sys.argv[3],\\\\n]\\\\n\\\\n_outputs = '\n",
       "                                        'add(**_args)\\\\n\\\\nfrom '\n",
       "                                        'collections.abc import Sequence\\\\nif '\n",
       "                                        'not isinstance(_outputs, Sequence) or '\n",
       "                                        'isinstance(_outputs, str):\\\\n    '\n",
       "                                        '_outputs = [_outputs]\\\\n\\\\nfrom '\n",
       "                                        'pathlib import Path\\\\nfor idx, '\n",
       "                                        'filename in '\n",
       "                                        'enumerate(_output_files):\\\\n    '\n",
       "                                        '_output_path = Path(filename)\\\\n    '\n",
       "                                        '_output_path.parent.mkdir(parents=True, '\n",
       "                                        'exist_ok=True)\\\\n    '\n",
       "                                        '_output_path.write_text(str(_outputs[idx]))\\\\n\"], '\n",
       "                                        '\"image\": '\n",
       "                                        '\"tensorflow/tensorflow:1.11.0-py3\"}, '\n",
       "                                        '\"inputs\": {\"parameters\": [{\"name\": '\n",
       "                                        '\"a\"}, {\"name\": \"b\"}]}, \"name\": \"add\", '\n",
       "                                        '\"outputs\": {\"artifacts\": [{\"name\": '\n",
       "                                        '\"mlpipeline-ui-metadata\", \"path\": '\n",
       "                                        '\"/mlpipeline-ui-metadata.json\", \"s3\": '\n",
       "                                        '{\"accessKeySecret\": {\"key\": '\n",
       "                                        '\"accesskey\", \"name\": '\n",
       "                                        '\"mlpipeline-minio-artifact\"}, '\n",
       "                                        '\"bucket\": \"mlpipeline\", \"endpoint\": '\n",
       "                                        '\"minio-service.kubeflow:9000\", '\n",
       "                                        '\"insecure\": true, \"key\": '\n",
       "                                        '\"runs/{{workflow.uid}}/{{pod.name}}/mlpipeline-ui-metadata.tgz\", '\n",
       "                                        '\"secretKeySecret\": {\"key\": '\n",
       "                                        '\"secretkey\", \"name\": '\n",
       "                                        '\"mlpipeline-minio-artifact\"}}}, '\n",
       "                                        '{\"name\": \"mlpipeline-metrics\", '\n",
       "                                        '\"path\": \"/mlpipeline-metrics.json\", '\n",
       "                                        '\"s3\": {\"accessKeySecret\": {\"key\": '\n",
       "                                        '\"accesskey\", \"name\": '\n",
       "                                        '\"mlpipeline-minio-artifact\"}, '\n",
       "                                        '\"bucket\": \"mlpipeline\", \"endpoint\": '\n",
       "                                        '\"minio-service.kubeflow:9000\", '\n",
       "                                        '\"insecure\": true, \"key\": '\n",
       "                                        '\"runs/{{workflow.uid}}/{{pod.name}}/mlpipeline-metrics.tgz\", '\n",
       "                                        '\"secretKeySecret\": {\"key\": '\n",
       "                                        '\"secretkey\", \"name\": '\n",
       "                                        '\"mlpipeline-minio-artifact\"}}}], '\n",
       "                                        '\"parameters\": [{\"name\": \"add-output\", '\n",
       "                                        '\"valueFrom\": {\"path\": '\n",
       "                                        '\"/outputs/Output\"}}]}}, {\"container\": '\n",
       "                                        '{\"args\": '\n",
       "                                        '[\"{{inputs.parameters.add-output}}\", '\n",
       "                                        '\"{{inputs.parameters.c}}\", '\n",
       "                                        '\"/outputs/Output\"], \"command\": '\n",
       "                                        '[\"python3\", \"-c\", \"from typing import '\n",
       "                                        'NamedTuple\\\\n\\\\ndef add(a: float,  b: '\n",
       "                                        \"float) -> float:\\\\n    print('adding \"\n",
       "                                        \"%s and %s' % (a, b))\\\\n    return a + \"\n",
       "                                        'b\\\\n\\\\nimport sys\\\\n_args = {\\\\n    '\n",
       "                                        \"'a': float(sys.argv[1]),\\\\n    'b': \"\n",
       "                                        'float(sys.argv[2]),\\\\n}\\\\n_output_files '\n",
       "                                        '= [\\\\n    '\n",
       "                                        'sys.argv[3],\\\\n]\\\\n\\\\n_outputs = '\n",
       "                                        'add(**_args)\\\\n\\\\nfrom '\n",
       "                                        'collections.abc import Sequence\\\\nif '\n",
       "                                        'not isinstance(_outputs, Sequence) or '\n",
       "                                        'isinstance(_outputs, str):\\\\n    '\n",
       "                                        '_outputs = [_outputs]\\\\n\\\\nfrom '\n",
       "                                        'pathlib import Path\\\\nfor idx, '\n",
       "                                        'filename in '\n",
       "                                        'enumerate(_output_files):\\\\n    '\n",
       "                                        '_output_path = Path(filename)\\\\n    '\n",
       "                                        '_output_path.parent.mkdir(parents=True, '\n",
       "                                        'exist_ok=True)\\\\n    '\n",
       "                                        '_output_path.write_text(str(_outputs[idx]))\\\\n\"], '\n",
       "                                        '\"image\": '\n",
       "                                        '\"tensorflow/tensorflow:1.11.0-py3\"}, '\n",
       "                                        '\"inputs\": {\"parameters\": [{\"name\": '\n",
       "                                        '\"add-output\"}, {\"name\": \"c\"}]}, '\n",
       "                                        '\"name\": \"add-2\", \"outputs\": '\n",
       "                                        '{\"artifacts\": [{\"name\": '\n",
       "                                        '\"mlpipeline-ui-metadata\", \"path\": '\n",
       "                                        '\"/mlpipeline-ui-metadata.json\", \"s3\": '\n",
       "                                        '{\"accessKeySecret\": {\"key\": '\n",
       "                                        '\"accesskey\", \"name\": '\n",
       "                                        '\"mlpipeline-minio-artifact\"}, '\n",
       "                                        '\"bucket\": \"mlpipeline\", \"endpoint\": '\n",
       "                                        '\"minio-service.kubeflow:9000\", '\n",
       "                                        '\"insecure\": true, \"key\": '\n",
       "                                        '\"runs/{{workflow.uid}}/{{pod.name}}/mlpipeline-ui-metadata.tgz\", '\n",
       "                                        '\"secretKeySecret\": {\"key\": '\n",
       "                                        '\"secretkey\", \"name\": '\n",
       "                                        '\"mlpipeline-minio-artifact\"}}}, '\n",
       "                                        '{\"name\": \"mlpipeline-metrics\", '\n",
       "                                        '\"path\": \"/mlpipeline-metrics.json\", '\n",
       "                                        '\"s3\": {\"accessKeySecret\": {\"key\": '\n",
       "                                        '\"accesskey\", \"name\": '\n",
       "                                        '\"mlpipeline-minio-artifact\"}, '\n",
       "                                        '\"bucket\": \"mlpipeline\", \"endpoint\": '\n",
       "                                        '\"minio-service.kubeflow:9000\", '\n",
       "                                        '\"insecure\": true, \"key\": '\n",
       "                                        '\"runs/{{workflow.uid}}/{{pod.name}}/mlpipeline-metrics.tgz\", '\n",
       "                                        '\"secretKeySecret\": {\"key\": '\n",
       "                                        '\"secretkey\", \"name\": '\n",
       "                                        '\"mlpipeline-minio-artifact\"}}}], '\n",
       "                                        '\"parameters\": [{\"name\": '\n",
       "                                        '\"add-2-output\", \"valueFrom\": {\"path\": '\n",
       "                                        '\"/outputs/Output\"}}]}}, {\"dag\": '\n",
       "                                        '{\"tasks\": [{\"arguments\": '\n",
       "                                        '{\"parameters\": [{\"name\": \"a\", '\n",
       "                                        '\"value\": \"{{inputs.parameters.a}}\"}, '\n",
       "                                        '{\"name\": \"b\", \"value\": '\n",
       "                                        '\"{{inputs.parameters.b}}\"}]}, \"name\": '\n",
       "                                        '\"add\", \"template\": \"add\"}, '\n",
       "                                        '{\"arguments\": {\"parameters\": '\n",
       "                                        '[{\"name\": \"add-output\", \"value\": '\n",
       "                                        '\"{{tasks.add.outputs.parameters.add-output}}\"}, '\n",
       "                                        '{\"name\": \"c\", \"value\": '\n",
       "                                        '\"{{inputs.parameters.c}}\"}]}, '\n",
       "                                        '\"dependencies\": [\"add\"], \"name\": '\n",
       "                                        '\"add-2\", \"template\": \"add-2\"}]}, '\n",
       "                                        '\"inputs\": {\"parameters\": [{\"name\": '\n",
       "                                        '\"a\"}, {\"name\": \"b\"}, {\"name\": \"c\"}]}, '\n",
       "                                        '\"name\": \"simple-pipeline\"}]}}'},\n",
       " 'resource_references': [{'key': {'id': '57935e68-839a-492e-8140-98fcb83a10d0',\n",
       "                                  'type': 'EXPERIMENT'},\n",
       "                          'relationship': 'OWNER'}],\n",
       " 'scheduled_at': datetime.datetime(1970, 1, 1, 0, 0, tzinfo=tzlocal()),\n",
       " 'status': None}"
      ]
     },
     "execution_count": 47,
     "metadata": {},
     "output_type": "execute_result"
    }
   ],
   "source": [
    "arguments = { 'a': 2, 'b': 10, 'c': 13.25 }\n",
    "\n",
    "client.run_pipeline(experiment.id, PIPELINE_RUN_NAME, PIPELINE_FILENAME, arguments)"
   ]
  }
 ],
 "metadata": {
  "kernelspec": {
   "display_name": "Python 3",
   "language": "python",
   "name": "python3"
  },
  "language_info": {
   "codemirror_mode": {
    "name": "ipython",
    "version": 3
   },
   "file_extension": ".py",
   "mimetype": "text/x-python",
   "name": "python",
   "nbconvert_exporter": "python",
   "pygments_lexer": "ipython3",
   "version": "3.6.4"
  }
 },
 "nbformat": 4,
 "nbformat_minor": 2
}
